{
 "cells": [
  {
   "cell_type": "markdown",
   "metadata": {},
   "source": [
    "#  Heart Disease Prediction: Machine Learning for Good\n",
    "\n",
    "## 1. Group Members\n",
    "Xiaoxuan Liu xl2590\n",
    "Yeqian Yang  yy1240\n",
    "\n",
    "## 2. Introduction\n",
    "### Description of Problem\n",
    "\n",
    "### Motivation and Background\n",
    "According to the Centers for Disease Control and Prevention, heart disease is the leading cause of death for people of most ethnicities in the United States. About 610,000 people die of heart disease in the United States every year–that’s 1 in every 4 deaths. Every year about 735,000 Americans have a heart attack. Of these, 525,000 are a ﬁrst heart attack and 210,000 happen in people who have already had a heart attack. In this project, we plan to use data mining techniques to understand the relevant causes of heart disease and exploit machine learning algorithms to predict it. Better prediction hopefully leads to better prevention of heart disease\n",
    "\n",
    "## 3. Reference\n",
    "[1] Weng, Stephen F., et al. \"Can machine-learning improve cardiovascular risk prediction using routine clinical data?.\" PloS one 12.4 (2017): e0174944. \n",
    "\n",
    "[2] Gonsalves, Amanda H., et al. \"Prediction of Coronary Heart Disease using Machine Learning: An Experimental Analysis.\" Proceedings of the 2019 3rd International Conference on Deep Learning Technologies. ACM, 2019.\n",
    "1\n",
    "\n",
    "[3] Dinesh, Kumar G., et al. \"Prediction of Cardiovascular Disease Using Machine Learning Algorithms.\" 2018 International Conference on Current Trends towards Converging Technologies (ICCTCT). IEEE, 2018. \n",
    "\n",
    "[4] https://scikit-learn.org/stable/modules/generated/sklearn.model_selection.KFold.html \n",
    "\n",
    "[5] https://www.cdc.gov/heartdisease/facts.htm [6] https://archive.ics.uci.edu/ml/index.php\n"
   ]
  },
  {
   "cell_type": "markdown",
   "metadata": {},
   "source": [
    "## 4. Description of Methodology\n",
    "In this project, we plan to use the clinical data obtained from the Cleveland, Hungarian, Switzerland,Long Beach VA heart disease database (UCI machine Learning Repository).[6] These datasets segregate the patterns possibly related to the heart disease. We’ll ﬁrst perform data processing such as data cleaning, data integration and deal with missing values. Then we’ll conduct statistical analysis of the datasets to better understand the distribution of the data and select relevant features. Finally we’ll implement several machine learning models to compare the prediction accuracy of these models so that we can ﬁnd the most suitable model with the best performance.\n"
   ]
  },
  {
   "cell_type": "markdown",
   "metadata": {},
   "source": [
    "## 5.  Experiments"
   ]
  },
  {
   "cell_type": "code",
   "execution_count": 1,
   "metadata": {},
   "outputs": [],
   "source": [
    "import numpy as np\n",
    "import pandas as pd\n",
    "import matplotlib.pyplot as plt\n",
    "import seaborn as sns\n",
    "from sklearn.linear_model import LogisticRegression\n",
    "from sklearn.model_selection import train_test_split\n",
    "from sklearn.neighbors import KNeighborsClassifier\n",
    "from sklearn.naive_bayes import GaussianNB\n",
    "from sklearn.ensemble import RandomForestClassifier\n",
    "from sklearn.tree import DecisionTreeClassifier\n",
    "from sklearn.naive_bayes import GaussianNB\n",
    "from sklearn.svm import SVC\n",
    "from sklearn.metrics import confusion_matrix\n",
    "import os"
   ]
  },
  {
   "cell_type": "markdown",
   "metadata": {},
   "source": [
    "### 5.1 Dataset Description \n",
    "The raw datasets we use are from UCI Machine Learning Repository, and the heart disease datasets are separated into several sub sets from diﬀerent region’s hospitals(cleveland.data, hungarian.data, switzerland.data and long-beach-va.data, heart-disease.names). \n",
    "这里要改~~\n",
    "\n",
    "The description of dataset, for each column\n",
    " 1. age: age in years\n",
    " 2. sex: sex (1 = male; 0 = female)\n",
    " 3. cp: chest pain type\n",
    "        -- Value 1: typical angina\n",
    "        -- Value 2: atypical angina\n",
    "        -- Value 3: non-anginal pain\n",
    "        -- Value 4: asymptomatic\n",
    " 4. trestbps: resting blood pressure (in mm Hg on admission to the hospital)\n",
    " 5. chol: serum cholestoral in mg/dl\n",
    " 6. fbs: (fasting blood sugar > 120 mg/dl)  (1 = true; 0 = false)\n",
    " 7. restecg: resting electrocardiographic results \n",
    "         -- Value 0: normal \n",
    "         -- Value 1: having ST-T wave abnormality (T wave inversions and/or ST \n",
    "                    elevation or depression of > 0.05 mV) \n",
    "         -- Value 2: showing probable or definite left ventricular hypertrophy\n",
    "                    by Estes' criteria\n",
    " 8. thaldur: duration of exercise test in minutes\n",
    " 9. exang: exercise induced angina (1 = yes; 0 = no)\n",
    " 10. oldpeak = ST depression induced by exercise relative to rest\n",
    " 11. slope: the slope of the peak exercise ST segment\n",
    "         -- Value 1: upsloping\n",
    "         -- Value 2: flat\n",
    "         -- Value 3: downsloping\n",
    " 12. ca: number of major vessels (0-3) colored by flourosopy\n",
    " 13. thal: 3 = normal; 6 = fixed defect; 7 = reversable defect\n",
    " 14. num: diagnosis of heart disease (angiographic disease status)\n",
    "         -- Value 0: < 50% diameter narrowing\n",
    "         -- Value 1: > 50% diameter narrowing\n",
    "     (in any major vessel: attributes 59 through 68 are vessels)"
   ]
  },
  {
   "cell_type": "code",
   "execution_count": 2,
   "metadata": {},
   "outputs": [
    {
     "name": "stdout",
     "output_type": "stream",
     "text": [
      "    age  sex  cp  trestbps  chol  fbs  restecg  thalach  exang  oldpeak  \\\n",
      "0    63    1   1       145   233    1        2      150      0      2.3   \n",
      "1    67    1   4       160   286    0        2      108      1      1.5   \n",
      "2    67    1   4       120   229    0        2      129      1      2.6   \n",
      "3    37    1   3       130   250    0        0      187      0      3.5   \n",
      "4    41    0   2       130   204    0        2      172      0      1.4   \n",
      "5    56    1   2       120   236    0        0      178      0      0.8   \n",
      "6    62    0   4       140   268    0        2      160      0      3.6   \n",
      "7    57    0   4       120   354    0        0      163      1      0.6   \n",
      "8    63    1   4       130   254    0        2      147      0      1.4   \n",
      "9    53    1   4       140   203    1        2      155      1      3.1   \n",
      "10   57    1   4       140   192    0        0      148      0      0.4   \n",
      "11   56    0   2       140   294    0        2      153      0      1.3   \n",
      "12   56    1   3       130   256    1        2      142      1      0.6   \n",
      "13   44    1   2       120   263    0        0      173      0      0.0   \n",
      "14   52    1   3       172   199    1        0      162      0      0.5   \n",
      "15   57    1   3       150   168    0        0      174      0      1.6   \n",
      "16   48    1   2       110   229    0        0      168      0      1.0   \n",
      "17   54    1   4       140   239    0        0      160      0      1.2   \n",
      "18   48    0   3       130   275    0        0      139      0      0.2   \n",
      "19   49    1   2       130   266    0        0      171      0      0.6   \n",
      "\n",
      "    target  \n",
      "0        0  \n",
      "1        1  \n",
      "2        1  \n",
      "3        0  \n",
      "4        0  \n",
      "5        0  \n",
      "6        1  \n",
      "7        0  \n",
      "8        1  \n",
      "9        1  \n",
      "10       0  \n",
      "11       0  \n",
      "12       1  \n",
      "13       0  \n",
      "14       0  \n",
      "15       0  \n",
      "16       1  \n",
      "17       0  \n",
      "18       0  \n",
      "19       0  \n",
      "0    347\n",
      "1    314\n",
      "Name: target, dtype: int64\n"
     ]
    }
   ],
   "source": [
    "# the dataset from all three places\n",
    "df = pd.read_csv(\"data/All_data_total_without_last_two.csv\")\n",
    "\n",
    "def trans(data):\n",
    "    if data >= 1:\n",
    "        return 1\n",
    "    else:\n",
    "        return 0\n",
    "    \n",
    "df['target'] = df['target'].map(lambda x : trans(x))\n",
    "print(df.head(20))\n",
    "print(df.target.value_counts())"
   ]
  },
  {
   "cell_type": "markdown",
   "metadata": {},
   "source": [
    "### 5.2 Data Analysis\n",
    "\n",
    "#### The precentage of the heart disease \n"
   ]
  },
  {
   "cell_type": "code",
   "execution_count": 3,
   "metadata": {},
   "outputs": [
    {
     "data": {
      "image/png": "[encoded data removed]",
      "text/plain": [
       "<Figure size 432x288 with 1 Axes>"
      ]
     },
     "metadata": {
      "needs_background": "light"
     },
     "output_type": "display_data"
    },
    {
     "name": "stdout",
     "output_type": "stream",
     "text": [
      "Percentage of Patients Haven't Heart Disease: 52.50%\n",
      "Percentage of Patients Have Heart Disease: 47.50%\n"
     ]
    }
   ],
   "source": [
    "\"\"\"\n",
    "precentage of the heart disease\n",
    "x label is for the count of people \n",
    "\"\"\"\n",
    "if 'target' in df.columns:\n",
    "    sns.countplot(x=\"target\", data=df, palette=\"bwr\", color = ['lightsteelblue', 'cornflowerblue'])\n",
    "    plt.show()\n",
    "    count_No_Disease = len(df[df.target == 0])\n",
    "    count_Have_Disease = len(df[df.target >= 1])\n",
    "    print(\"Percentage of Patients Haven't Heart Disease: {:.2f}%\".format((count_No_Disease / (len(df.target))*100)))\n",
    "    print(\"Percentage of Patients Have Heart Disease: {:.2f}%\".format((count_Have_Disease / (len(df.target))*100)))"
   ]
  },
  {
   "cell_type": "markdown",
   "metadata": {},
   "source": [
    "#### The precentage of female and male"
   ]
  },
  {
   "cell_type": "code",
   "execution_count": 4,
   "metadata": {},
   "outputs": [
    {
     "data": {
      "image/png": "[encoded data removed]",
      "text/plain": [
       "<Figure size 432x288 with 1 Axes>"
      ]
     },
     "metadata": {
      "needs_background": "light"
     },
     "output_type": "display_data"
    },
    {
     "name": "stdout",
     "output_type": "stream",
     "text": [
      "Percentage of Female Patients: 25.87%\n",
      "Percentage of Male Patients: 74.13%\n"
     ]
    }
   ],
   "source": [
    "\"\"\"\n",
    "precentage of female and male\n",
    "x label is for the count of people\n",
    "\"\"\"\n",
    "if 'sex' in df.columns:\n",
    "    sns.countplot(x='sex', data=df, palette=\"mako_r\", color = ['blue','darkblue'])\n",
    "    plt.xlabel(\"Sex (0 = female, 1= male)\")\n",
    "    plt.show()\n",
    "        \n",
    "    count_Female = len(df[df.sex == 0])\n",
    "    count_Male = len(df[df.sex == 1])\n",
    "    print(\"Percentage of Female Patients: {:.2f}%\".format((count_Female / (len(df.sex))*100)))\n",
    "    print(\"Percentage of Male Patients: {:.2f}%\".format((count_Male / (len(df.sex))*100)))"
   ]
  },
  {
   "cell_type": "markdown",
   "metadata": {},
   "source": [
    "#### Heart disease with age"
   ]
  },
  {
   "cell_type": "code",
   "execution_count": 5,
   "metadata": {},
   "outputs": [
    {
     "data": {
      "image/png": "[encoded data removed]",
      "text/plain": [
       "<Figure size 1440x432 with 1 Axes>"
      ]
     },
     "metadata": {
      "needs_background": "light"
     },
     "output_type": "display_data"
    },
    {
     "data": {
      "image/png": "[encoded data removed]",
      "text/plain": [
       "<Figure size 432x288 with 1 Axes>"
      ]
     },
     "metadata": {
      "needs_background": "light"
     },
     "output_type": "display_data"
    }
   ],
   "source": [
    "\"\"\"\n",
    "heart disease with the age\n",
    "\"\"\"\n",
    "if 'age' in df.columns and 'target' in df.columns:\n",
    "    pd.crosstab(df.age,df.target).plot(kind=\"bar\",figsize=(20,6), color = ['mediumpurple','plum'])\n",
    "    plt.title('Heart Disease Frequency for Ages')\n",
    "    plt.xlabel('Age')\n",
    "    plt.ylabel('Frequency')\n",
    "    plt.savefig('heartDiseaseAndAges.png')\n",
    "    plt.show()\n",
    "\n",
    "    \n",
    "\"\"\" \n",
    "relation with disease and age \n",
    "scatter plot with age range and the different maximum heart rate\n",
    "red one is for disease and blue is for non disease\n",
    "see the correlation with heart rate and disease \n",
    "\"\"\"\n",
    "if 'age' in df.columns and 'target' in df.columns:\n",
    "    plt.scatter(x=df.age[df.target==1], y=df.thalach[(df.target==1)], c=\"red\")\n",
    "    plt.scatter(x=df.age[df.target==0], y=df.thalach[(df.target==0)])\n",
    "    plt.legend([\"Disease\", \"Not Disease\"])\n",
    "    plt.xlabel(\"Age\")\n",
    "    plt.ylabel(\"Maximum Heart Rate\")\n",
    "    plt.show()"
   ]
  },
  {
   "cell_type": "markdown",
   "metadata": {},
   "source": [
    "#### Heart disease with sex"
   ]
  },
  {
   "cell_type": "code",
   "execution_count": 6,
   "metadata": {},
   "outputs": [
    {
     "data": {
      "image/png": "[encoded data removed]",
      "text/plain": [
       "<Figure size 1080x432 with 1 Axes>"
      ]
     },
     "metadata": {
      "needs_background": "light"
     },
     "output_type": "display_data"
    }
   ],
   "source": [
    "\"\"\"\n",
    "heart disease with the sex\n",
    "seprate the people and the disease \n",
    "\"\"\"\n",
    "if 'sex' in df.columns and 'target' in df.columns:\n",
    "    pd.crosstab(df.sex,df.target).plot(kind=\"bar\",figsize=(15,6),color=['limegreen','green' ])\n",
    "    plt.title('Heart Disease Frequency for Sex')\n",
    "    plt.xlabel('Sex (0 = Female, 1 = Male)')\n",
    "    plt.xticks(rotation=0)\n",
    "    plt.legend([\"Haven't Disease\", \"Have Disease\"])\n",
    "    plt.ylabel('Frequency')\n",
    "    plt.show()"
   ]
  },
  {
   "cell_type": "code",
   "execution_count": 7,
   "metadata": {},
   "outputs": [],
   "source": [
    "if 'slope' in df.columns and 'target' in df.columns:\n",
    "    pd.crosstab(df.slope,df.target).plot(kind=\"bar\",figsize=(15,6),color=['orange','moccasin' ])\n",
    "    plt.title('Heart Disease Frequency for Slope')\n",
    "    plt.xlabel('The Slope of The Peak Exercise ST Segment ')\n",
    "    plt.xticks(rotation = 0)\n",
    "    plt.ylabel('Frequency')\n",
    "    plt.show()\n",
    "    "
   ]
  },
  {
   "cell_type": "markdown",
   "metadata": {},
   "source": [
    "#### Blood sugar with disease"
   ]
  },
  {
   "cell_type": "code",
   "execution_count": 8,
   "metadata": {},
   "outputs": [
    {
     "data": {
      "image/png": "[encoded data removed]",
      "text/plain": [
       "<Figure size 1080x432 with 1 Axes>"
      ]
     },
     "metadata": {
      "needs_background": "light"
     },
     "output_type": "display_data"
    }
   ],
   "source": [
    "\"\"\"\n",
    "Fasting Blood Sugar with disease\n",
    "to see whether fasting blood suger will influence the people have disease\n",
    "\"\"\"    \n",
    "if 'fbs' in df.columns and 'target' in df.columns:\n",
    "    pd.crosstab(df.fbs,df.target).plot(kind=\"bar\",figsize=(15,6),color=['goldenrod','gold' ])\n",
    "    plt.title('Heart Disease Frequency According To FBS')\n",
    "    plt.xlabel('FBS - (Fasting Blood Sugar > 120 mg/dl) (1 = true; 0 = false)')\n",
    "    plt.xticks(rotation = 0)\n",
    "    plt.legend([\"Haven't Disease\", \"Have Disease\"])\n",
    "    plt.ylabel('Frequency of Disease or Not')\n",
    "    plt.show()"
   ]
  },
  {
   "cell_type": "markdown",
   "metadata": {},
   "source": [
    "#### Pain type with disease"
   ]
  },
  {
   "cell_type": "code",
   "execution_count": 9,
   "metadata": {},
   "outputs": [
    {
     "data": {
      "image/png": "[encoded data removed]",
      "text/plain": [
       "<Figure size 1080x432 with 1 Axes>"
      ]
     },
     "metadata": {
      "needs_background": "light"
     },
     "output_type": "display_data"
    }
   ],
   "source": [
    "\"\"\"\n",
    "Chest Pain Type with disease\n",
    "to see whether different chest type will influence the people have disease\n",
    "\"\"\"\n",
    "if 'cp' in df.columns and 'target' in df.columns:\n",
    "    pd.crosstab(df.cp,df.target).plot(kind=\"bar\",figsize=(15,6),color=['tomato','orangered' ])\n",
    "    plt.title('Heart Disease Frequency According To Chest Pain Type')\n",
    "    plt.xlabel('Chest Pain Type')\n",
    "    plt.xticks(rotation = 0)\n",
    "    plt.ylabel('Frequency of Disease or Not')\n",
    "    plt.show()"
   ]
  },
  {
   "cell_type": "markdown",
   "metadata": {},
   "source": [
    "### 5.2 Implement Machine Learning Model"
   ]
  },
  {
   "cell_type": "markdown",
   "metadata": {},
   "source": [
    "#### Create training data and testing data"
   ]
  },
  {
   "cell_type": "code",
   "execution_count": 10,
   "metadata": {},
   "outputs": [],
   "source": [
    "# split the training dataset testing dataset\n",
    "def data_for_model(df):\n",
    "    \"\"\"\n",
    "    change some categorical vars to dummy var\n",
    "    \"\"\"\n",
    "    a = pd.get_dummies(df['cp'], prefix = \"cp\")\n",
    "    b = pd.get_dummies(df['thal'], prefix = \"thal\")\n",
    "    c = pd.get_dummies(df['slope'], prefix = \"slope\")\n",
    "    frames = [df, a, b, c]\n",
    "    df = pd.concat(frames, axis = 1)\n",
    "    \n",
    "    df = df.drop(columns = ['cp', 'thal', 'slope'])\n",
    "    \n",
    "    y = df.target.values\n",
    "    x_data = df.drop(['target'], axis = 1)\n",
    "    # Normalize\n",
    "    x = (x_data - np.min(x_data)) / (np.max(x_data) - np.min(x_data)).values\n",
    "    \n",
    "    x_train, x_test, y_train, y_test = train_test_split(x,y,test_size = 0.2,random_state=0)\n",
    "    #transpose matrices\n",
    "    x_train = x_train.T\n",
    "    y_train = y_train.T\n",
    "    x_test = x_test.T\n",
    "    y_test = y_test.T\n",
    "    \n",
    "    print(x_train.shape)\n",
    "    return x_train,y_train, x_test, y_test\n",
    "\n",
    "\n",
    "def initialize(dimension):\n",
    "    weight = np.full((dimension,1),0.01)\n",
    "    bias = 0.0\n",
    "    return weight,bias\n",
    "\n",
    "def sigmoid(z):\n",
    "    y_head = 1/(1+ np.exp(-z))\n",
    "    return y_head\n",
    "\n",
    "\n",
    "def forwardBackward(weight,bias,x_train,y_train):\n",
    "    # Forward\n",
    "    \n",
    "    y_head = sigmoid(np.dot(weight.T,x_train) + bias)\n",
    "    loss = -(y_train*np.log(y_head) + (1-y_train)*np.log(1-y_head))\n",
    "    cost = np.sum(loss) / x_train.shape[1]\n",
    "    \n",
    "    # Backward\n",
    "    derivative_weight = np.dot(x_train,((y_head-y_train).T))/x_train.shape[1]\n",
    "    derivative_bias = np.sum(y_head-y_train)/x_train.shape[1]\n",
    "    gradients = {\"Derivative Weight\" : derivative_weight, \"Derivative Bias\" : derivative_bias}\n",
    "    \n",
    "    return cost,gradients\n",
    "\n",
    "\n",
    "def update(weight,bias,x_train,y_train,learningRate,iteration) :\n",
    "    costList = []\n",
    "    index = []\n",
    "    \n",
    "    #for each iteration, update weight and bias values\n",
    "    for i in range(iteration):\n",
    "        cost,gradients = forwardBackward(weight,bias,x_train,y_train)\n",
    "        weight = weight - learningRate * gradients[\"Derivative Weight\"]\n",
    "        bias = bias - learningRate * gradients[\"Derivative Bias\"]\n",
    "        \n",
    "        costList.append(cost)\n",
    "        index.append(i)\n",
    "\n",
    "    parameters = {\"weight\": weight,\"bias\": bias}\n",
    "    \n",
    "    print(\"iteration:\",iteration)\n",
    "    print(\"cost:\",cost)\n",
    "\n",
    "    plt.plot(index,costList)\n",
    "    plt.xlabel(\"Number of Iteration\")\n",
    "    plt.ylabel(\"Cost\")\n",
    "    plt.show()\n",
    "\n",
    "    return parameters, gradients"
   ]
  },
  {
   "cell_type": "code",
   "execution_count": 11,
   "metadata": {},
   "outputs": [],
   "source": [
    "def predict(weight,bias,x_test):\n",
    "    z = np.dot(weight.T,x_test) + bias\n",
    "    y_head = sigmoid(z)\n",
    "\n",
    "    y_prediction = np.zeros((1,x_test.shape[1]))\n",
    "    \n",
    "    for i in range(y_head.shape[1]):\n",
    "        if y_head[0,i] <= 0.5:\n",
    "            y_prediction[0,i] = 0\n",
    "        else:\n",
    "            y_prediction[0,i] = 1\n",
    "    return y_prediction\n",
    "\n",
    "\n",
    "\n",
    "def logistic_regression(x_train,y_train,x_test,y_test,learningRate,iteration):\n",
    "    dimension = x_train.shape[0]\n",
    "    weight,bias = initialize(dimension)\n",
    "    \n",
    "    parameters, gradients = update(weight,bias,x_train,y_train,learningRate,iteration)\n",
    "\n",
    "    y_prediction = predict(parameters[\"weight\"],parameters[\"bias\"],x_test)\n",
    "    \n",
    "    print(\"Manuel Test Accuracy: {:.2f}%\".format((100 - np.mean(np.abs(y_prediction - y_test))*100)))"
   ]
  },
  {
   "cell_type": "markdown",
   "metadata": {},
   "source": [
    "#### import the dataset using for machine learning model"
   ]
  },
  {
   "cell_type": "code",
   "execution_count": 12,
   "metadata": {},
   "outputs": [
    {
     "name": "stdout",
     "output_type": "stream",
     "text": [
      "    age  sex  cp  trestbps  chol  fbs  restecg  thalach  exang  oldpeak  \\\n",
      "0    63    1   1       145   233    1        2      150      0      2.3   \n",
      "1    67    1   4       160   286    0        2      108      1      1.5   \n",
      "2    67    1   4       120   229    0        2      129      1      2.6   \n",
      "3    37    1   3       130   250    0        0      187      0      3.5   \n",
      "4    41    0   2       130   204    0        2      172      0      1.4   \n",
      "5    56    1   2       120   236    0        0      178      0      0.8   \n",
      "6    62    0   4       140   268    0        2      160      0      3.6   \n",
      "7    57    0   4       120   354    0        0      163      1      0.6   \n",
      "8    63    1   4       130   254    0        2      147      0      1.4   \n",
      "9    53    1   4       140   203    1        2      155      1      3.1   \n",
      "10   57    1   4       140   192    0        0      148      0      0.4   \n",
      "11   56    0   2       140   294    0        2      153      0      1.3   \n",
      "12   56    1   3       130   256    1        2      142      1      0.6   \n",
      "13   44    1   2       120   263    0        0      173      0      0.0   \n",
      "14   52    1   3       172   199    1        0      162      0      0.5   \n",
      "15   57    1   3       150   168    0        0      174      0      1.6   \n",
      "16   48    1   2       110   229    0        0      168      0      1.0   \n",
      "17   54    1   4       140   239    0        0      160      0      1.2   \n",
      "18   48    0   3       130   275    0        0      139      0      0.2   \n",
      "19   49    1   2       130   266    0        0      171      0      0.6   \n",
      "\n",
      "    slope  thal  target  \n",
      "0       3     6       0  \n",
      "1       2     3       1  \n",
      "2       2     7       1  \n",
      "3       3     3       0  \n",
      "4       1     3       0  \n",
      "5       1     3       0  \n",
      "6       3     3       1  \n",
      "7       1     3       0  \n",
      "8       2     7       1  \n",
      "9       3     7       1  \n",
      "10      2     6       0  \n",
      "11      2     3       0  \n",
      "12      2     6       1  \n",
      "13      1     7       0  \n",
      "14      1     7       0  \n",
      "15      1     3       0  \n",
      "16      3     7       1  \n",
      "17      1     3       0  \n",
      "18      1     3       0  \n",
      "19      1     3       0  \n",
      "0    169\n",
      "1    154\n",
      "Name: target, dtype: int64\n"
     ]
    }
   ],
   "source": [
    "# the dataset only from cleverland\n",
    "df = pd.read_csv(\"data/All_data_total.csv\")\n",
    "\n",
    "def trans(data):\n",
    "    if data >= 1:\n",
    "        return 1\n",
    "    else:\n",
    "        return 0\n",
    "    \n",
    "df['target'] = df['target'].map(lambda x : trans(x))\n",
    "print(df.head(20))\n",
    "print(df.target.value_counts())\n"
   ]
  },
  {
   "cell_type": "code",
   "execution_count": 13,
   "metadata": {},
   "outputs": [],
   "source": [
    "a = pd.get_dummies(df['cp'], prefix = \"cp\")\n",
    "b = pd.get_dummies(df['thal'], prefix = \"thal\")\n",
    "c = pd.get_dummies(df['slope'], prefix = \"slope\")\n",
    "frames = [df, a, b, c]\n",
    "df = pd.concat(frames, axis = 1)\n",
    "    \n",
    "df = df.drop(columns = ['cp', 'thal', 'slope'])\n",
    "    \n",
    "y = df.target.values\n",
    "x_data = df.drop(['target'], axis = 1)\n",
    "# Normalize\n",
    "x = (x_data - np.min(x_data)) / (np.max(x_data) - np.min(x_data)).values\n",
    "    \n",
    "x_train, x_test, y_train, y_test = train_test_split(x,y,test_size = 0.2,random_state=0)\n",
    "#transpose matrices\n",
    "x_train = x_train.T\n",
    "y_train = y_train.T\n",
    "x_test = x_test.T\n",
    "y_test = y_test.T"
   ]
  },
  {
   "cell_type": "markdown",
   "metadata": {},
   "source": [
    " 1. age: age in years\n",
    " 2. sex: sex (1 = male; 0 = female)\n",
    " 3. cp: chest pain type\n",
    "        -- Value 1: typical angina\n",
    "        -- Value 2: atypical angina\n",
    "        -- Value 3: non-anginal pain\n",
    "        -- Value 4: asymptomatic\n",
    " 4. trestbps: resting blood pressure (in mm Hg on admission to the hospital)\n",
    " 5. chol: serum cholestoral in mg/dl\n",
    " 6. fbs: (fasting blood sugar > 120 mg/dl)  (1 = true; 0 = false)\n",
    " 7. restecg: resting electrocardiographic results \n",
    "         -- Value 0: normal \n",
    "         -- Value 1: having ST-T wave abnormality (T wave inversions and/or ST \n",
    "                    elevation or depression of > 0.05 mV) \n",
    "         -- Value 2: showing probable or definite left ventricular hypertrophy\n",
    "                    by Estes' criteria\n",
    " 8. thaldur: duration of exercise test in minutes\n",
    " 9. exang: exercise induced angina (1 = yes; 0 = no)\n",
    " 10. oldpeak = ST depression induced by exercise relative to rest\n",
    " 11. slope: the slope of the peak exercise ST segment\n",
    "         -- Value 1: upsloping\n",
    "         -- Value 2: flat\n",
    "         -- Value 3: downsloping\n",
    " 12. ca: number of major vessels (0-3) colored by flourosopy\n",
    " 13. thal: 3 = normal; 6 = fixed defect; 7 = reversable defect\n",
    " 14. num: diagnosis of heart disease (angiographic disease status)\n",
    "         -- Value 0: < 50% diameter narrowing\n",
    "         -- Value 1: > 50% diameter narrowing\n",
    "     (in any major vessel: attributes 59 through 68 are vessels)"
   ]
  },
  {
   "cell_type": "code",
   "execution_count": 14,
   "metadata": {},
   "outputs": [
    {
     "data": {
      "text/html": [
       "<div>\n",
       "<style scoped>\n",
       "    .dataframe tbody tr th:only-of-type {\n",
       "        vertical-align: middle;\n",
       "    }\n",
       "\n",
       "    .dataframe tbody tr th {\n",
       "        vertical-align: top;\n",
       "    }\n",
       "\n",
       "    .dataframe thead th {\n",
       "        text-align: right;\n",
       "    }\n",
       "</style>\n",
       "<table border=\"1\" class=\"dataframe\">\n",
       "  <thead>\n",
       "    <tr style=\"text-align: right;\">\n",
       "      <th></th>\n",
       "      <th>173</th>\n",
       "      <th>253</th>\n",
       "      <th>220</th>\n",
       "      <th>196</th>\n",
       "      <th>5</th>\n",
       "      <th>33</th>\n",
       "      <th>303</th>\n",
       "      <th>34</th>\n",
       "      <th>228</th>\n",
       "      <th>146</th>\n",
       "      <th>...</th>\n",
       "      <th>242</th>\n",
       "      <th>277</th>\n",
       "      <th>211</th>\n",
       "      <th>9</th>\n",
       "      <th>195</th>\n",
       "      <th>251</th>\n",
       "      <th>192</th>\n",
       "      <th>117</th>\n",
       "      <th>47</th>\n",
       "      <th>172</th>\n",
       "    </tr>\n",
       "  </thead>\n",
       "  <tbody>\n",
       "    <tr>\n",
       "      <th>age</th>\n",
       "      <td>0.729167</td>\n",
       "      <td>0.291667</td>\n",
       "      <td>0.520833</td>\n",
       "      <td>0.333333</td>\n",
       "      <td>0.562500</td>\n",
       "      <td>0.625000</td>\n",
       "      <td>0.583333</td>\n",
       "      <td>0.312500</td>\n",
       "      <td>0.770833</td>\n",
       "      <td>0.250000</td>\n",
       "      <td>...</td>\n",
       "      <td>0.666667</td>\n",
       "      <td>0.604167</td>\n",
       "      <td>0.250000</td>\n",
       "      <td>0.500000</td>\n",
       "      <td>0.833333</td>\n",
       "      <td>0.729167</td>\n",
       "      <td>0.687500</td>\n",
       "      <td>0.708333</td>\n",
       "      <td>0.437500</td>\n",
       "      <td>0.687500</td>\n",
       "    </tr>\n",
       "    <tr>\n",
       "      <th>sex</th>\n",
       "      <td>1.000000</td>\n",
       "      <td>1.000000</td>\n",
       "      <td>0.000000</td>\n",
       "      <td>0.000000</td>\n",
       "      <td>1.000000</td>\n",
       "      <td>1.000000</td>\n",
       "      <td>1.000000</td>\n",
       "      <td>1.000000</td>\n",
       "      <td>1.000000</td>\n",
       "      <td>1.000000</td>\n",
       "      <td>...</td>\n",
       "      <td>1.000000</td>\n",
       "      <td>0.000000</td>\n",
       "      <td>1.000000</td>\n",
       "      <td>1.000000</td>\n",
       "      <td>1.000000</td>\n",
       "      <td>1.000000</td>\n",
       "      <td>0.000000</td>\n",
       "      <td>1.000000</td>\n",
       "      <td>1.000000</td>\n",
       "      <td>0.000000</td>\n",
       "    </tr>\n",
       "    <tr>\n",
       "      <th>trestbps</th>\n",
       "      <td>0.481132</td>\n",
       "      <td>0.198113</td>\n",
       "      <td>0.132075</td>\n",
       "      <td>0.415094</td>\n",
       "      <td>0.245283</td>\n",
       "      <td>0.386792</td>\n",
       "      <td>0.433962</td>\n",
       "      <td>0.339623</td>\n",
       "      <td>0.169811</td>\n",
       "      <td>0.169811</td>\n",
       "      <td>...</td>\n",
       "      <td>0.377358</td>\n",
       "      <td>0.339623</td>\n",
       "      <td>0.339623</td>\n",
       "      <td>0.433962</td>\n",
       "      <td>0.622642</td>\n",
       "      <td>0.320755</td>\n",
       "      <td>0.415094</td>\n",
       "      <td>0.339623</td>\n",
       "      <td>0.528302</td>\n",
       "      <td>0.433962</td>\n",
       "    </tr>\n",
       "    <tr>\n",
       "      <th>chol</th>\n",
       "      <td>0.241379</td>\n",
       "      <td>0.437500</td>\n",
       "      <td>0.359914</td>\n",
       "      <td>0.293103</td>\n",
       "      <td>0.293103</td>\n",
       "      <td>0.288793</td>\n",
       "      <td>0.245690</td>\n",
       "      <td>0.286638</td>\n",
       "      <td>0.241379</td>\n",
       "      <td>0.323276</td>\n",
       "      <td>...</td>\n",
       "      <td>0.288793</td>\n",
       "      <td>0.209052</td>\n",
       "      <td>0.245690</td>\n",
       "      <td>0.221983</td>\n",
       "      <td>0.288793</td>\n",
       "      <td>0.351293</td>\n",
       "      <td>0.418103</td>\n",
       "      <td>0.495690</td>\n",
       "      <td>0.308190</td>\n",
       "      <td>0.633621</td>\n",
       "    </tr>\n",
       "    <tr>\n",
       "      <th>fbs</th>\n",
       "      <td>0.000000</td>\n",
       "      <td>0.000000</td>\n",
       "      <td>0.000000</td>\n",
       "      <td>0.000000</td>\n",
       "      <td>0.000000</td>\n",
       "      <td>0.000000</td>\n",
       "      <td>0.000000</td>\n",
       "      <td>0.000000</td>\n",
       "      <td>0.000000</td>\n",
       "      <td>0.000000</td>\n",
       "      <td>...</td>\n",
       "      <td>0.000000</td>\n",
       "      <td>0.000000</td>\n",
       "      <td>0.000000</td>\n",
       "      <td>1.000000</td>\n",
       "      <td>1.000000</td>\n",
       "      <td>0.000000</td>\n",
       "      <td>1.000000</td>\n",
       "      <td>1.000000</td>\n",
       "      <td>0.000000</td>\n",
       "      <td>0.000000</td>\n",
       "    </tr>\n",
       "    <tr>\n",
       "      <th>restecg</th>\n",
       "      <td>1.000000</td>\n",
       "      <td>0.000000</td>\n",
       "      <td>1.000000</td>\n",
       "      <td>1.000000</td>\n",
       "      <td>0.000000</td>\n",
       "      <td>0.000000</td>\n",
       "      <td>0.500000</td>\n",
       "      <td>0.000000</td>\n",
       "      <td>1.000000</td>\n",
       "      <td>0.000000</td>\n",
       "      <td>...</td>\n",
       "      <td>0.000000</td>\n",
       "      <td>0.000000</td>\n",
       "      <td>1.000000</td>\n",
       "      <td>1.000000</td>\n",
       "      <td>1.000000</td>\n",
       "      <td>0.000000</td>\n",
       "      <td>0.000000</td>\n",
       "      <td>1.000000</td>\n",
       "      <td>1.000000</td>\n",
       "      <td>1.000000</td>\n",
       "    </tr>\n",
       "    <tr>\n",
       "      <th>thalach</th>\n",
       "      <td>0.465649</td>\n",
       "      <td>0.839695</td>\n",
       "      <td>0.732824</td>\n",
       "      <td>0.618321</td>\n",
       "      <td>0.816794</td>\n",
       "      <td>0.687023</td>\n",
       "      <td>0.557252</td>\n",
       "      <td>0.824427</td>\n",
       "      <td>0.465649</td>\n",
       "      <td>0.824427</td>\n",
       "      <td>...</td>\n",
       "      <td>0.564885</td>\n",
       "      <td>0.458015</td>\n",
       "      <td>0.740458</td>\n",
       "      <td>0.641221</td>\n",
       "      <td>0.458015</td>\n",
       "      <td>0.259542</td>\n",
       "      <td>0.267176</td>\n",
       "      <td>0.465649</td>\n",
       "      <td>0.435115</td>\n",
       "      <td>0.656489</td>\n",
       "    </tr>\n",
       "    <tr>\n",
       "      <th>exang</th>\n",
       "      <td>0.000000</td>\n",
       "      <td>0.000000</td>\n",
       "      <td>0.000000</td>\n",
       "      <td>1.000000</td>\n",
       "      <td>0.000000</td>\n",
       "      <td>0.000000</td>\n",
       "      <td>1.000000</td>\n",
       "      <td>1.000000</td>\n",
       "      <td>1.000000</td>\n",
       "      <td>0.000000</td>\n",
       "      <td>...</td>\n",
       "      <td>0.000000</td>\n",
       "      <td>0.000000</td>\n",
       "      <td>0.000000</td>\n",
       "      <td>1.000000</td>\n",
       "      <td>0.000000</td>\n",
       "      <td>1.000000</td>\n",
       "      <td>0.000000</td>\n",
       "      <td>1.000000</td>\n",
       "      <td>0.000000</td>\n",
       "      <td>0.000000</td>\n",
       "    </tr>\n",
       "    <tr>\n",
       "      <th>oldpeak</th>\n",
       "      <td>0.322581</td>\n",
       "      <td>0.193548</td>\n",
       "      <td>0.000000</td>\n",
       "      <td>0.032258</td>\n",
       "      <td>0.129032</td>\n",
       "      <td>0.080645</td>\n",
       "      <td>0.322581</td>\n",
       "      <td>0.064516</td>\n",
       "      <td>0.016129</td>\n",
       "      <td>0.000000</td>\n",
       "      <td>...</td>\n",
       "      <td>0.419355</td>\n",
       "      <td>0.096774</td>\n",
       "      <td>0.322581</td>\n",
       "      <td>0.500000</td>\n",
       "      <td>0.016129</td>\n",
       "      <td>0.032258</td>\n",
       "      <td>0.306452</td>\n",
       "      <td>0.290323</td>\n",
       "      <td>0.419355</td>\n",
       "      <td>0.193548</td>\n",
       "    </tr>\n",
       "    <tr>\n",
       "      <th>cp_1</th>\n",
       "      <td>0.000000</td>\n",
       "      <td>0.000000</td>\n",
       "      <td>0.000000</td>\n",
       "      <td>0.000000</td>\n",
       "      <td>0.000000</td>\n",
       "      <td>0.000000</td>\n",
       "      <td>0.000000</td>\n",
       "      <td>0.000000</td>\n",
       "      <td>0.000000</td>\n",
       "      <td>0.000000</td>\n",
       "      <td>...</td>\n",
       "      <td>1.000000</td>\n",
       "      <td>0.000000</td>\n",
       "      <td>0.000000</td>\n",
       "      <td>0.000000</td>\n",
       "      <td>1.000000</td>\n",
       "      <td>0.000000</td>\n",
       "      <td>0.000000</td>\n",
       "      <td>0.000000</td>\n",
       "      <td>0.000000</td>\n",
       "      <td>0.000000</td>\n",
       "    </tr>\n",
       "    <tr>\n",
       "      <th>cp_2</th>\n",
       "      <td>0.000000</td>\n",
       "      <td>0.000000</td>\n",
       "      <td>0.000000</td>\n",
       "      <td>0.000000</td>\n",
       "      <td>1.000000</td>\n",
       "      <td>0.000000</td>\n",
       "      <td>0.000000</td>\n",
       "      <td>0.000000</td>\n",
       "      <td>0.000000</td>\n",
       "      <td>0.000000</td>\n",
       "      <td>...</td>\n",
       "      <td>0.000000</td>\n",
       "      <td>0.000000</td>\n",
       "      <td>0.000000</td>\n",
       "      <td>0.000000</td>\n",
       "      <td>0.000000</td>\n",
       "      <td>0.000000</td>\n",
       "      <td>0.000000</td>\n",
       "      <td>0.000000</td>\n",
       "      <td>0.000000</td>\n",
       "      <td>0.000000</td>\n",
       "    </tr>\n",
       "    <tr>\n",
       "      <th>cp_3</th>\n",
       "      <td>0.000000</td>\n",
       "      <td>0.000000</td>\n",
       "      <td>1.000000</td>\n",
       "      <td>0.000000</td>\n",
       "      <td>0.000000</td>\n",
       "      <td>0.000000</td>\n",
       "      <td>0.000000</td>\n",
       "      <td>1.000000</td>\n",
       "      <td>0.000000</td>\n",
       "      <td>1.000000</td>\n",
       "      <td>...</td>\n",
       "      <td>0.000000</td>\n",
       "      <td>0.000000</td>\n",
       "      <td>1.000000</td>\n",
       "      <td>0.000000</td>\n",
       "      <td>0.000000</td>\n",
       "      <td>0.000000</td>\n",
       "      <td>0.000000</td>\n",
       "      <td>0.000000</td>\n",
       "      <td>0.000000</td>\n",
       "      <td>0.000000</td>\n",
       "    </tr>\n",
       "    <tr>\n",
       "      <th>cp_4</th>\n",
       "      <td>1.000000</td>\n",
       "      <td>1.000000</td>\n",
       "      <td>0.000000</td>\n",
       "      <td>1.000000</td>\n",
       "      <td>0.000000</td>\n",
       "      <td>1.000000</td>\n",
       "      <td>1.000000</td>\n",
       "      <td>0.000000</td>\n",
       "      <td>1.000000</td>\n",
       "      <td>0.000000</td>\n",
       "      <td>...</td>\n",
       "      <td>0.000000</td>\n",
       "      <td>1.000000</td>\n",
       "      <td>0.000000</td>\n",
       "      <td>1.000000</td>\n",
       "      <td>0.000000</td>\n",
       "      <td>1.000000</td>\n",
       "      <td>1.000000</td>\n",
       "      <td>1.000000</td>\n",
       "      <td>1.000000</td>\n",
       "      <td>1.000000</td>\n",
       "    </tr>\n",
       "    <tr>\n",
       "      <th>thal_3</th>\n",
       "      <td>0.000000</td>\n",
       "      <td>1.000000</td>\n",
       "      <td>1.000000</td>\n",
       "      <td>1.000000</td>\n",
       "      <td>1.000000</td>\n",
       "      <td>0.000000</td>\n",
       "      <td>0.000000</td>\n",
       "      <td>1.000000</td>\n",
       "      <td>1.000000</td>\n",
       "      <td>1.000000</td>\n",
       "      <td>...</td>\n",
       "      <td>1.000000</td>\n",
       "      <td>1.000000</td>\n",
       "      <td>1.000000</td>\n",
       "      <td>0.000000</td>\n",
       "      <td>1.000000</td>\n",
       "      <td>0.000000</td>\n",
       "      <td>1.000000</td>\n",
       "      <td>0.000000</td>\n",
       "      <td>0.000000</td>\n",
       "      <td>1.000000</td>\n",
       "    </tr>\n",
       "    <tr>\n",
       "      <th>thal_6</th>\n",
       "      <td>1.000000</td>\n",
       "      <td>0.000000</td>\n",
       "      <td>0.000000</td>\n",
       "      <td>0.000000</td>\n",
       "      <td>0.000000</td>\n",
       "      <td>0.000000</td>\n",
       "      <td>1.000000</td>\n",
       "      <td>0.000000</td>\n",
       "      <td>0.000000</td>\n",
       "      <td>0.000000</td>\n",
       "      <td>...</td>\n",
       "      <td>0.000000</td>\n",
       "      <td>0.000000</td>\n",
       "      <td>0.000000</td>\n",
       "      <td>0.000000</td>\n",
       "      <td>0.000000</td>\n",
       "      <td>0.000000</td>\n",
       "      <td>0.000000</td>\n",
       "      <td>0.000000</td>\n",
       "      <td>0.000000</td>\n",
       "      <td>0.000000</td>\n",
       "    </tr>\n",
       "    <tr>\n",
       "      <th>thal_7</th>\n",
       "      <td>0.000000</td>\n",
       "      <td>0.000000</td>\n",
       "      <td>0.000000</td>\n",
       "      <td>0.000000</td>\n",
       "      <td>0.000000</td>\n",
       "      <td>1.000000</td>\n",
       "      <td>0.000000</td>\n",
       "      <td>0.000000</td>\n",
       "      <td>0.000000</td>\n",
       "      <td>0.000000</td>\n",
       "      <td>...</td>\n",
       "      <td>0.000000</td>\n",
       "      <td>0.000000</td>\n",
       "      <td>0.000000</td>\n",
       "      <td>1.000000</td>\n",
       "      <td>0.000000</td>\n",
       "      <td>1.000000</td>\n",
       "      <td>0.000000</td>\n",
       "      <td>1.000000</td>\n",
       "      <td>1.000000</td>\n",
       "      <td>0.000000</td>\n",
       "    </tr>\n",
       "    <tr>\n",
       "      <th>slope_1</th>\n",
       "      <td>0.000000</td>\n",
       "      <td>0.000000</td>\n",
       "      <td>1.000000</td>\n",
       "      <td>0.000000</td>\n",
       "      <td>1.000000</td>\n",
       "      <td>0.000000</td>\n",
       "      <td>0.000000</td>\n",
       "      <td>1.000000</td>\n",
       "      <td>1.000000</td>\n",
       "      <td>1.000000</td>\n",
       "      <td>...</td>\n",
       "      <td>0.000000</td>\n",
       "      <td>0.000000</td>\n",
       "      <td>0.000000</td>\n",
       "      <td>0.000000</td>\n",
       "      <td>0.000000</td>\n",
       "      <td>0.000000</td>\n",
       "      <td>0.000000</td>\n",
       "      <td>1.000000</td>\n",
       "      <td>0.000000</td>\n",
       "      <td>0.000000</td>\n",
       "    </tr>\n",
       "    <tr>\n",
       "      <th>slope_2</th>\n",
       "      <td>1.000000</td>\n",
       "      <td>1.000000</td>\n",
       "      <td>0.000000</td>\n",
       "      <td>1.000000</td>\n",
       "      <td>0.000000</td>\n",
       "      <td>1.000000</td>\n",
       "      <td>1.000000</td>\n",
       "      <td>0.000000</td>\n",
       "      <td>0.000000</td>\n",
       "      <td>0.000000</td>\n",
       "      <td>...</td>\n",
       "      <td>1.000000</td>\n",
       "      <td>1.000000</td>\n",
       "      <td>1.000000</td>\n",
       "      <td>0.000000</td>\n",
       "      <td>1.000000</td>\n",
       "      <td>1.000000</td>\n",
       "      <td>1.000000</td>\n",
       "      <td>0.000000</td>\n",
       "      <td>1.000000</td>\n",
       "      <td>1.000000</td>\n",
       "    </tr>\n",
       "    <tr>\n",
       "      <th>slope_3</th>\n",
       "      <td>0.000000</td>\n",
       "      <td>0.000000</td>\n",
       "      <td>0.000000</td>\n",
       "      <td>0.000000</td>\n",
       "      <td>0.000000</td>\n",
       "      <td>0.000000</td>\n",
       "      <td>0.000000</td>\n",
       "      <td>0.000000</td>\n",
       "      <td>0.000000</td>\n",
       "      <td>0.000000</td>\n",
       "      <td>...</td>\n",
       "      <td>0.000000</td>\n",
       "      <td>0.000000</td>\n",
       "      <td>0.000000</td>\n",
       "      <td>1.000000</td>\n",
       "      <td>0.000000</td>\n",
       "      <td>0.000000</td>\n",
       "      <td>0.000000</td>\n",
       "      <td>0.000000</td>\n",
       "      <td>0.000000</td>\n",
       "      <td>0.000000</td>\n",
       "    </tr>\n",
       "  </tbody>\n",
       "</table>\n",
       "<p>19 rows × 258 columns</p>\n",
       "</div>"
      ],
      "text/plain": [
       "               173       253       220       196       5         33   \\\n",
       "age       0.729167  0.291667  0.520833  0.333333  0.562500  0.625000   \n",
       "sex       1.000000  1.000000  0.000000  0.000000  1.000000  1.000000   \n",
       "trestbps  0.481132  0.198113  0.132075  0.415094  0.245283  0.386792   \n",
       "chol      0.241379  0.437500  0.359914  0.293103  0.293103  0.288793   \n",
       "fbs       0.000000  0.000000  0.000000  0.000000  0.000000  0.000000   \n",
       "restecg   1.000000  0.000000  1.000000  1.000000  0.000000  0.000000   \n",
       "thalach   0.465649  0.839695  0.732824  0.618321  0.816794  0.687023   \n",
       "exang     0.000000  0.000000  0.000000  1.000000  0.000000  0.000000   \n",
       "oldpeak   0.322581  0.193548  0.000000  0.032258  0.129032  0.080645   \n",
       "cp_1      0.000000  0.000000  0.000000  0.000000  0.000000  0.000000   \n",
       "cp_2      0.000000  0.000000  0.000000  0.000000  1.000000  0.000000   \n",
       "cp_3      0.000000  0.000000  1.000000  0.000000  0.000000  0.000000   \n",
       "cp_4      1.000000  1.000000  0.000000  1.000000  0.000000  1.000000   \n",
       "thal_3    0.000000  1.000000  1.000000  1.000000  1.000000  0.000000   \n",
       "thal_6    1.000000  0.000000  0.000000  0.000000  0.000000  0.000000   \n",
       "thal_7    0.000000  0.000000  0.000000  0.000000  0.000000  1.000000   \n",
       "slope_1   0.000000  0.000000  1.000000  0.000000  1.000000  0.000000   \n",
       "slope_2   1.000000  1.000000  0.000000  1.000000  0.000000  1.000000   \n",
       "slope_3   0.000000  0.000000  0.000000  0.000000  0.000000  0.000000   \n",
       "\n",
       "               303       34        228       146  ...       242       277  \\\n",
       "age       0.583333  0.312500  0.770833  0.250000  ...  0.666667  0.604167   \n",
       "sex       1.000000  1.000000  1.000000  1.000000  ...  1.000000  0.000000   \n",
       "trestbps  0.433962  0.339623  0.169811  0.169811  ...  0.377358  0.339623   \n",
       "chol      0.245690  0.286638  0.241379  0.323276  ...  0.288793  0.209052   \n",
       "fbs       0.000000  0.000000  0.000000  0.000000  ...  0.000000  0.000000   \n",
       "restecg   0.500000  0.000000  1.000000  0.000000  ...  0.000000  0.000000   \n",
       "thalach   0.557252  0.824427  0.465649  0.824427  ...  0.564885  0.458015   \n",
       "exang     1.000000  1.000000  1.000000  0.000000  ...  0.000000  0.000000   \n",
       "oldpeak   0.322581  0.064516  0.016129  0.000000  ...  0.419355  0.096774   \n",
       "cp_1      0.000000  0.000000  0.000000  0.000000  ...  1.000000  0.000000   \n",
       "cp_2      0.000000  0.000000  0.000000  0.000000  ...  0.000000  0.000000   \n",
       "cp_3      0.000000  1.000000  0.000000  1.000000  ...  0.000000  0.000000   \n",
       "cp_4      1.000000  0.000000  1.000000  0.000000  ...  0.000000  1.000000   \n",
       "thal_3    0.000000  1.000000  1.000000  1.000000  ...  1.000000  1.000000   \n",
       "thal_6    1.000000  0.000000  0.000000  0.000000  ...  0.000000  0.000000   \n",
       "thal_7    0.000000  0.000000  0.000000  0.000000  ...  0.000000  0.000000   \n",
       "slope_1   0.000000  1.000000  1.000000  1.000000  ...  0.000000  0.000000   \n",
       "slope_2   1.000000  0.000000  0.000000  0.000000  ...  1.000000  1.000000   \n",
       "slope_3   0.000000  0.000000  0.000000  0.000000  ...  0.000000  0.000000   \n",
       "\n",
       "               211       9         195       251       192       117  \\\n",
       "age       0.250000  0.500000  0.833333  0.729167  0.687500  0.708333   \n",
       "sex       1.000000  1.000000  1.000000  1.000000  0.000000  1.000000   \n",
       "trestbps  0.339623  0.433962  0.622642  0.320755  0.415094  0.339623   \n",
       "chol      0.245690  0.221983  0.288793  0.351293  0.418103  0.495690   \n",
       "fbs       0.000000  1.000000  1.000000  0.000000  1.000000  1.000000   \n",
       "restecg   1.000000  1.000000  1.000000  0.000000  0.000000  1.000000   \n",
       "thalach   0.740458  0.641221  0.458015  0.259542  0.267176  0.465649   \n",
       "exang     0.000000  1.000000  0.000000  1.000000  0.000000  1.000000   \n",
       "oldpeak   0.322581  0.500000  0.016129  0.032258  0.306452  0.290323   \n",
       "cp_1      0.000000  0.000000  1.000000  0.000000  0.000000  0.000000   \n",
       "cp_2      0.000000  0.000000  0.000000  0.000000  0.000000  0.000000   \n",
       "cp_3      1.000000  0.000000  0.000000  0.000000  0.000000  0.000000   \n",
       "cp_4      0.000000  1.000000  0.000000  1.000000  1.000000  1.000000   \n",
       "thal_3    1.000000  0.000000  1.000000  0.000000  1.000000  0.000000   \n",
       "thal_6    0.000000  0.000000  0.000000  0.000000  0.000000  0.000000   \n",
       "thal_7    0.000000  1.000000  0.000000  1.000000  0.000000  1.000000   \n",
       "slope_1   0.000000  0.000000  0.000000  0.000000  0.000000  1.000000   \n",
       "slope_2   1.000000  0.000000  1.000000  1.000000  1.000000  0.000000   \n",
       "slope_3   0.000000  1.000000  0.000000  0.000000  0.000000  0.000000   \n",
       "\n",
       "               47        172  \n",
       "age       0.437500  0.687500  \n",
       "sex       1.000000  0.000000  \n",
       "trestbps  0.528302  0.433962  \n",
       "chol      0.308190  0.633621  \n",
       "fbs       0.000000  0.000000  \n",
       "restecg   1.000000  1.000000  \n",
       "thalach   0.435115  0.656489  \n",
       "exang     0.000000  0.000000  \n",
       "oldpeak   0.419355  0.193548  \n",
       "cp_1      0.000000  0.000000  \n",
       "cp_2      0.000000  0.000000  \n",
       "cp_3      0.000000  0.000000  \n",
       "cp_4      1.000000  1.000000  \n",
       "thal_3    0.000000  1.000000  \n",
       "thal_6    0.000000  0.000000  \n",
       "thal_7    1.000000  0.000000  \n",
       "slope_1   0.000000  0.000000  \n",
       "slope_2   1.000000  1.000000  \n",
       "slope_3   0.000000  0.000000  \n",
       "\n",
       "[19 rows x 258 columns]"
      ]
     },
     "execution_count": 14,
     "metadata": {},
     "output_type": "execute_result"
    }
   ],
   "source": [
    "x_train"
   ]
  },
  {
   "cell_type": "code",
   "execution_count": 15,
   "metadata": {},
   "outputs": [
    {
     "data": {
      "text/plain": [
       "array([1, 0, 0, 0, 0, 0, 1, 0, 1, 0, 1, 0, 1, 1, 1, 0, 1, 1, 1, 1, 0, 1,\n",
       "       1, 1, 1, 0, 0, 1, 1, 1, 0, 0, 0, 1, 0, 0, 1, 0, 0, 0, 0, 1, 1, 1,\n",
       "       1, 0, 1, 0, 1, 0, 1, 1, 1, 1, 0, 0, 1, 1, 0, 0, 0, 1, 1, 1, 1, 1,\n",
       "       0, 0, 0, 1, 0, 0, 0, 1, 1, 1, 1, 1, 1, 0, 1, 1, 1, 1, 1, 1, 1, 1,\n",
       "       1, 0, 1, 0, 1, 0, 0, 1, 0, 0, 0, 1, 0, 0, 1, 1, 1, 0, 0, 1, 1, 0,\n",
       "       1, 1, 1, 0, 0, 1, 0, 1, 0, 0, 0, 0, 0, 0, 0, 1, 0, 0, 0, 0, 0, 0,\n",
       "       1, 0, 0, 0, 1, 0, 0, 1, 1, 1, 1, 0, 1, 1, 0, 0, 1, 0, 0, 1, 0, 0,\n",
       "       0, 1, 1, 0, 0, 1, 1, 0, 0, 0, 0, 0, 0, 1, 0, 1, 0, 1, 1, 1, 1, 0,\n",
       "       1, 1, 0, 0, 0, 0, 0, 0, 1, 1, 1, 0, 0, 0, 0, 1, 0, 0, 0, 0, 0, 0,\n",
       "       1, 1, 0, 0, 1, 1, 0, 0, 0, 1, 0, 1, 1, 0, 1, 0, 0, 1, 0, 0, 1, 0,\n",
       "       1, 1, 0, 0, 0, 1, 1, 0, 0, 1, 0, 0, 0, 0, 0, 1, 1, 0, 0, 0, 1, 1,\n",
       "       0, 0, 0, 0, 0, 1, 1, 0, 0, 1, 0, 0, 1, 1, 1, 0], dtype=int64)"
      ]
     },
     "execution_count": 15,
     "metadata": {},
     "output_type": "execute_result"
    }
   ],
   "source": [
    "y_train"
   ]
  },
  {
   "cell_type": "markdown",
   "metadata": {},
   "source": [
    "#### Get the mean value of several features"
   ]
  },
  {
   "cell_type": "code",
   "execution_count": 16,
   "metadata": {},
   "outputs": [
    {
     "name": "stdout",
     "output_type": "stream",
     "text": [
      "              age       sex    trestbps        chol       fbs   restecg  \\\n",
      "target                                                                    \n",
      "0       52.544379  0.579882  129.165680  244.372781  0.142012  0.816568   \n",
      "1       56.396104  0.811688  134.798701  250.909091  0.142857  1.110390   \n",
      "\n",
      "           thalach     exang   oldpeak      cp_1      cp_2      cp_3  \\\n",
      "target                                                                 \n",
      "0       158.035503  0.159763  0.610651  0.094675  0.242604  0.420118   \n",
      "1       137.032468  0.577922  1.594805  0.045455  0.064935  0.116883   \n",
      "\n",
      "            cp_4    thal_3    thal_6    thal_7   slope_1   slope_2   slope_3  \n",
      "target                                                                        \n",
      "0       0.242604  0.786982  0.041420  0.171598  0.627219  0.313609  0.059172  \n",
      "1       0.772727  0.240260  0.103896  0.655844  0.246753  0.662338  0.090909  \n"
     ]
    }
   ],
   "source": [
    "df.groupby('target').mean()\n",
    "print(df.groupby('target').mean())"
   ]
  },
  {
   "cell_type": "markdown",
   "metadata": {},
   "source": [
    "#### Logistic Regression \n",
    "100 iterations, the test acc will be 0.83 \n",
    "\n",
    "1000 iterations, the test acc will decrease to 0.80 \n",
    "\n",
    "10000 iterations, the test acc will be lower than before"
   ]
  },
  {
   "cell_type": "code",
   "execution_count": 17,
   "metadata": {},
   "outputs": [
    {
     "name": "stdout",
     "output_type": "stream",
     "text": [
      "iteration: 100\n",
      "cost: 0.3785938955278798\n"
     ]
    },
    {
     "data": {
      "image/png": "[encoded data removed]",
      "text/plain": [
       "<Figure size 432x288 with 1 Axes>"
      ]
     },
     "metadata": {
      "needs_background": "light"
     },
     "output_type": "display_data"
    },
    {
     "name": "stdout",
     "output_type": "stream",
     "text": [
      "Manuel Test Accuracy: 83.08%\n",
      "iteration: 1000\n",
      "cost: 0.35997109340489086\n"
     ]
    },
    {
     "data": {
      "image/png": "[encoded data removed]",
      "text/plain": [
       "<Figure size 432x288 with 1 Axes>"
      ]
     },
     "metadata": {
      "needs_background": "light"
     },
     "output_type": "display_data"
    },
    {
     "name": "stdout",
     "output_type": "stream",
     "text": [
      "Manuel Test Accuracy: 80.00%\n",
      "iteration: 10000\n",
      "cost: 0.35931561757886094\n"
     ]
    },
    {
     "data": {
      "image/png": "[encoded data removed]",
      "text/plain": [
       "<Figure size 432x288 with 1 Axes>"
      ]
     },
     "metadata": {
      "needs_background": "light"
     },
     "output_type": "display_data"
    },
    {
     "name": "stdout",
     "output_type": "stream",
     "text": [
      "Manuel Test Accuracy: 78.46%\n"
     ]
    }
   ],
   "source": [
    "\"\"\"logistic regression \"\"\"\n",
    "logistic_regression(x_train,y_train,x_test,y_test,1,100)\n",
    "logistic_regression(x_train,y_train,x_test,y_test,1,1000)\n",
    "logistic_regression(x_train,y_train,x_test,y_test,1,10000)"
   ]
  },
  {
   "cell_type": "markdown",
   "metadata": {},
   "source": [
    "#### KNN machine learning model \n",
    "\n",
    "Fitting with range 1 to 20 neighbors \n",
    "\n",
    "The top acc will be 9 neightbors with 0.8615"
   ]
  },
  {
   "cell_type": "code",
   "execution_count": 18,
   "metadata": {},
   "outputs": [
    {
     "data": {
      "image/png": "[encoded data removed]",
      "text/plain": [
       "<Figure size 432x288 with 1 Axes>"
      ]
     },
     "metadata": {
      "needs_background": "light"
     },
     "output_type": "display_data"
    },
    {
     "name": "stdout",
     "output_type": "stream",
     "text": [
      "Maximum KNN Score is 86.15%\n"
     ]
    }
   ],
   "source": [
    "#try ro find best k value\n",
    "scoreList = []\n",
    "for i in range(1,20):\n",
    "    knn = KNeighborsClassifier(n_neighbors = i)  # n_neighbors means k\n",
    "    knn.fit(x_train.T, y_train.T)\n",
    "    scoreList.append(knn.score(x_test.T, y_test.T))\n",
    "accuracies = {} \n",
    "plt.plot(range(1,20), scoreList)\n",
    "plt.xticks(np.arange(1,20,1))\n",
    "plt.xlabel(\"K value\")\n",
    "plt.ylabel(\"Score\")\n",
    "plt.show()\n",
    "    \n",
    "acc = max(scoreList)*100\n",
    "accuracies['KNN'] = acc\n",
    "print(\"Maximum KNN Score is {:.2f}%\".format(acc))"
   ]
  },
  {
   "cell_type": "markdown",
   "metadata": {},
   "source": [
    "#### SVM machine learning model \n"
   ]
  },
  {
   "cell_type": "code",
   "execution_count": 44,
   "metadata": {},
   "outputs": [
    {
     "data": {
      "image/png": "[encoded data removed]",
      "text/plain": [
       "<Figure size 720x432 with 1 Axes>"
      ]
     },
     "metadata": {},
     "output_type": "display_data"
    },
    {
     "name": "stdout",
     "output_type": "stream",
     "text": [
      "0.8625354660770173\n",
      "85.18518518518519\n"
     ]
    },
    {
     "data": {
      "text/plain": [
       "\"\\nsvm = SVC(random_state = 1)\\nsvm.fit(x_train.T, y_train.T)\\n    \\nacc = svm.score(x_test.T,y_test.T)*100\\naccuracies['SVM'] = acc\\n\""
      ]
     },
     "execution_count": 44,
     "metadata": {},
     "output_type": "execute_result"
    }
   ],
   "source": [
    "\"\"\"SVM \"\"\"\n",
    "from sklearn.model_selection import train_test_split\n",
    "from sklearn.metrics import roc_auc_score, roc_curve\n",
    "import matplotlib\n",
    "import matplotlib.pyplot as plt\n",
    "from sklearn import linear_model,svm\n",
    "from sklearn import metrics\n",
    "from scipy.stats import sem\n",
    "import matplotlib.pyplot as plt\n",
    "aucs=dict()\n",
    "cs = np.logspace(-8,1,10,base=10).astype(float)\n",
    "acc_score = []\n",
    "for f in range(10):\n",
    "    x_train,x_test=train_test_split(df)\n",
    "    #print(x_test)\n",
    "    for c in cs:\n",
    "        svm_clf = svm.SVC(C=c, kernel=\"linear\")\n",
    "        svm_clf.fit(x_train.drop('target',1), x_train['target'])\n",
    "        svm_predict = svm_clf.decision_function(x_test.drop('target',1))\n",
    "        #print(svm_predict)\n",
    "       \n",
    "        auc_c = roc_auc_score(x_test[\"target\"], svm_predict)\n",
    "        if c in aucs:\n",
    "            aucs[c].append(auc_c)\n",
    "        else:\n",
    "            aucs[c] = [auc_c] \n",
    "            \n",
    "        acc = svm_clf.score(x_test.drop('target',1), x_test[\"target\"])*100\n",
    "\n",
    "        acc_score.append(acc)\n",
    "#print(aucs)\n",
    "#print(acc_score)\n",
    "\n",
    "\n",
    "auc_mean = list()\n",
    "sauc_std = list()\n",
    "auc_max = list()\n",
    "for i in aucs.keys():\n",
    "    mean = np.mean(aucs[i])\n",
    "    auc_mean.append(mean)\n",
    "    std = sem(aucs[i])\n",
    "    sauc_std.append(std)\n",
    "    max_auc = mean - std\n",
    "    auc_max.append(max_auc)\n",
    "\n",
    "plt.figure(figsize=(10,6))\n",
    "plt.plot(np.log10(cs),auc_mean,label='Mean AUC')\n",
    "plt.plot(np.log10(cs),np.array(auc_mean)-np.array(sauc_std),'k+-',label='Mean-Standard error')\n",
    "plt.plot(np.log10(cs),np.array(auc_mean)+np.array(sauc_std),'k--',label='Mean+Standard error')\n",
    "plt.axhline(y=max(auc_max),color='r',label='Reference Line')\n",
    "plt.legend(loc='lower right')\n",
    "plt.show()\n",
    "print(max(auc_max))\n",
    "\n",
    "max_acc = max(acc_score)\n",
    "print(max_acc)\n",
    "\"\"\"\n",
    "svm = SVC(random_state = 1)\n",
    "svm.fit(x_train.T, y_train.T)\n",
    "    \n",
    "acc = svm.score(x_test.T,y_test.T)*100\n",
    "accuracies['SVM'] = acc\n",
    "\"\"\"\n",
    "#print(\"Test Accuracy of SVM Algorithm: {:.2f}%\".format(acc))\n"
   ]
  },
  {
   "cell_type": "code",
   "execution_count": 47,
   "metadata": {},
   "outputs": [
    {
     "name": "stdout",
     "output_type": "stream",
     "text": [
      "Accuracy of Naive Bayes: 88.89%\n"
     ]
    }
   ],
   "source": [
    "\"\"\"Naive Bayes\"\"\"\n",
    "nb = GaussianNB()\n",
    "acc_result = []\n",
    "for f in range(10):\n",
    "    x_train,x_test=train_test_split(df)\n",
    "    nb.fit(x_train.drop('target',1), x_train['target'])\n",
    "    acc = nb.score(x_test.drop('target',1), x_test[\"target\"])*100\n",
    "    acc_result.append(acc)\n",
    "max_acc = max(acc_result)\n",
    "accuracies['Naive Bayes'] = max_acc\n",
    "print(\"Accuracy of Naive Bayes: {:.2f}%\".format(max_acc))"
   ]
  },
  {
   "cell_type": "code",
   "execution_count": 48,
   "metadata": {},
   "outputs": [
    {
     "name": "stdout",
     "output_type": "stream",
     "text": [
      "Decision Tree Test Accuracy 82.72%\n"
     ]
    }
   ],
   "source": [
    "\"\"\"Decision tree\"\"\"\n",
    "dtc = DecisionTreeClassifier()\n",
    "acc_result = []\n",
    "for f in range(10):\n",
    "    x_train,x_test=train_test_split(df)\n",
    "    dtc.fit(x_train.drop('target',1), x_train['target'])\n",
    "    acc = dtc.score(x_test.drop('target',1), x_test[\"target\"])*100\n",
    "    acc_result.append(acc)\n",
    "max_acc = max(acc_result)\n",
    "accuracies['Decision Tree'] = max_acc\n",
    "print(\"Decision Tree Test Accuracy {:.2f}%\".format(max_acc))"
   ]
  },
  {
   "cell_type": "code",
   "execution_count": 53,
   "metadata": {},
   "outputs": [
    {
     "name": "stdout",
     "output_type": "stream",
     "text": [
      "Random Forest Algorithm Accuracy Score : 85.19%\n"
     ]
    }
   ],
   "source": [
    "\"\"\"Random forest\"\"\"\n",
    "list_ = [100, 1000, 10000]\n",
    "acc_result = []\n",
    "for f in range(10):\n",
    "    x_train,x_test=train_test_split(df)\n",
    "    \n",
    "    for n in list_:\n",
    "        rf = RandomForestClassifier(n_estimators = n, random_state = 1)\n",
    "        rf.fit(x_train.drop('target',1), x_train['target'])\n",
    "        acc = rf.score(x_test.drop('target',1), x_test[\"target\"])*100\n",
    "        acc_result.append(acc)\n",
    "\n",
    "max_acc = max(acc_result)\n",
    "accuracies['Random Forest'] = max_acc\n",
    "print(\"Random Forest Algorithm Accuracy Score : {:.2f}%\".format(max_acc))\n",
    "    "
   ]
  },
  {
   "cell_type": "code",
   "execution_count": 54,
   "metadata": {},
   "outputs": [
    {
     "data": {
      "image/png": "[encoded data removed]",
      "text/plain": [
       "<Figure size 1152x360 with 1 Axes>"
      ]
     },
     "metadata": {},
     "output_type": "display_data"
    }
   ],
   "source": [
    "#compare and plot the acc\n",
    "colors = [\"#DDA0DD\", \"#FFD700\", \"#FF6347\", \"#6495ED\",\"#9ACD32\",\"#FA8072\"]\n",
    "    \n",
    "sns.set_style(\"whitegrid\")\n",
    "plt.figure(figsize=(16,5))\n",
    "plt.yticks(np.arange(0,100,10))\n",
    "plt.ylabel(\"Accuracy %\")\n",
    "plt.xlabel(\"Algorithms\")\n",
    "sns.barplot(x=list(accuracies.keys()), y=list(accuracies.values()), palette=colors)\n",
    "plt.show()"
   ]
  },
  {
   "cell_type": "code",
   "execution_count": null,
   "metadata": {},
   "outputs": [],
   "source": []
  }
 ],
 "metadata": {
  "kernelspec": {
   "display_name": "Python 3",
   "language": "python",
   "name": "python3"
  },
  "language_info": {
   "codemirror_mode": {
    "name": "ipython",
    "version": 3
   },
   "file_extension": ".py",
   "mimetype": "text/x-python",
   "name": "python",
   "nbconvert_exporter": "python",
   "pygments_lexer": "ipython3",
   "version": "3.7.3"
  }
 },
 "nbformat": 4,
 "nbformat_minor": 2
}
